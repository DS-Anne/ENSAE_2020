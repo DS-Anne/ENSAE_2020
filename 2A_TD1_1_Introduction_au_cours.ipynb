{
 "cells": [
  {
   "cell_type": "markdown",
   "metadata": {},
   "source": [
    "# Introduction au cours Python"
   ]
  },
  {
   "cell_type": "markdown",
   "metadata": {},
   "source": [
    "## Principes du cours"
   ]
  },
  {
   "cell_type": "markdown",
   "metadata": {},
   "source": [
    "Le but de ce cours est de vous rendre autonome sur l'utilisation de Python dans un contexte de travail d'un ENSAE. \n",
    "\n",
    "Nous partirons de l'hypothèse que les notions de statistiques et d'économétrie pour lesquels nous verrons des applications informatiques, vous sont connues. \n",
    "\n",
    "#### Le plan du cours est le suivant : \n",
    "\n",
    "- \n",
    "\n",
    "\n",
    "#### L'évaluation est la suivante :\n",
    "\n",
    "- A la fin du semestre, les étudiants rendront un projet informatique par __groupe de 2-3 personnes.__\n",
    "\n",
    "\n",
    "- Ce projet dont le __sujet est libre__ devra comporter\n",
    "    - Un jeu de données (de préférence collecté par le groupe ou a minima enrichi)\n",
    "    - De la visualisation\n",
    "    - De la modélisation\n",
    "    \n",
    "\n",
    "- La __date du rendu__ est fixée au : XXX\n",
    "\n",
    "\n",
    "- Au mois de janvier 2021, auront lieu des __soutenances_\n",
    "\n",
    "\n",
    "- Des idées de sujets seront communiquées ultérieurement. Les étudiants sont invités à proposer des sujets qui leur plaisent, à faire valider par le chargé de TD. \n"
   ]
  },
  {
   "cell_type": "markdown",
   "metadata": {},
   "source": [
    "### Configuration de Python\n",
    "\n",
    "Pour bien débuter le cours, vous devez avoir un environnement informatique de travail qui soit opérationnel. \n",
    "\n",
    "Pour cela, on vous invite à vous rendre sur la page https://linogaliana-teaching.netlify.app/getting-started/01_installation/"
   ]
  },
  {
   "cell_type": "markdown",
   "metadata": {},
   "source": [
    "## Packages essentiels pour le cours et la vie d'un ENSAE\n",
    "\n",
    "### numpy\n",
    "numpy gère tout ce qui est calcul matriciel. Le langage Python est un des langages les plus lents qui soient. Tous les calculs rapides ne sont pas écrits en Python mais en C++, voire fortran. C’est le cas du module numpy, il est incontournable dès qu’on veut être rapide. Le module scipy est une extension où l’on peut trouver des fonctions statistiques, d’optimisation.\n",
    "\n",
    "La Cheat Sheet de numpy : https://s3.amazonaws.com/assets.datacamp.com/blog_assets/Numpy_Python_Cheat_Sheet.pdf\n",
    "\n",
    "### pandas\n",
    "pandas est incontournable dès qu’on veut manipuler des données. Il gère la plupart des formats de données. Il est lui aussi implémenté en C++. Il est rapide mais pas tant que ça, il utilise en règle générale trois fois plus d’espace en mémoire que les données n’en prennent sur le disque.\n",
    "\n",
    "La Cheat Sheet de pandas : https://s3.amazonaws.com/assets.datacamp.com/blog_assets/Python_Pandas_Cheat_Sheet_2.pdf\n",
    "\n",
    "\n",
    "### matplotlib\n",
    "matplotlib s’occupe de tout ce qui est graphique. Il faut également connaître seaborn qui propose des graphiques étudiés pour un usage statistique.\n",
    "\n",
    "### scikit-learn\n",
    "scikit-learn est le module le plus populaire pour deux raisons. Son design a été pensé pour être simple avec deux méthodes fit et predict pour apprendre et prédire. Sa documentation est un modèle à suivre.\n",
    "\n",
    "### statsmodels\n",
    "statsmodels plaira plus aux statisticiens, il implémente des modèles similaires à scikit-learn, il est meilleur pour tout ce qui est linéaire avec une présentation des résultats très proche de ce qu’on trouve en R.\n",
    "\n",
    "(source http://www.xavierdupre.fr/app/papierstat/helpsphinx/rappel.html)"
   ]
  },
  {
   "cell_type": "markdown",
   "metadata": {},
   "source": [
    "## Démarche à adopter face à un jeu de données\n",
    "\n",
    "Pour bien débuter des travaux sur une base de données, il est nécessaire de se poser quelques questions de bon sens et de suivre une démarche assez simple. "
   ]
  },
  {
   "cell_type": "markdown",
   "metadata": {},
   "source": [
    "### Une démarche scientifique \n",
    "\n",
    "Dans un projet sur des jeux de données, on peut schématiquement séparer les étapes en 3 grandes parties : la récupération des données, leur analyse (notamment descriptive) et la modélisation. \n",
    "\n",
    "#### Lors de la récupération des données\n",
    "\n",
    "La phase de constitution de son jeu de données sous-tend tout le projet qui suit : \n",
    "- de quelles données ai-je besoin ? \n",
    "- est-ce que les sources trouvées sont fiables ? (les sites de l'Open Data sont par exemple assez fiable, Wikipedia aussi)\n",
    "- est-ce que je peux les compléter avec d'autres données ? (dans ce cas, faire attention à avoir des niveaux de granularité adéquats)\n",
    "\n",
    "Vient ensuite la phase de mise en forme et nettoyage des jeux de données récupérés. Cette étape est primordiale, car le jeu de données soit être propre afin de permettre leur analyse.\n",
    "\n",
    "Propre ? ça veut dire quoi pour des données ? \n",
    "\n",
    "Quelques exemples pour vous permettre de saisir le sens de données propres : \n",
    "- les __informations manquantes__ sont bien comprises et traitées (remplacer par NaN ou 0 le cas échéant) \n",
    "- les __variables servant d'identifiants__ sont bien les mêmes d'une table à l'autre (notamment dans le cas de jointure) : même format, même \n",
    "- pour des __variables textuelles__, qui peuvent etre mal saisies, avoir corrigé les éventuelles fautes (ex \"Rolland Garros\" > \"Roland Garros\" \n",
    "- créer des variables qui synthétisent l'information dont vous avez besoin\n",
    "- supprimer les éléments inutiles (colonne ou ligne vide)\n",
    "- renommez les colonnes avec des noms compréhensibles \n",
    "\n",
    "\n",
    "\n",
    "\n",
    "#### Lors de l'analyse descriptive\n",
    "\n",
    "Une fois les jeux de données nettoyés, vous pouvez plus sereinement regarder ce que vos données vous disent. Cette phase et celle du nettoyage ne sont pas séquentielles, en réalité vous devrez régulièrement passer de votre nettoyage à quelques statistiques descriptives qui vous montreront un problème, retourner au nettoyage etc. \n",
    "\n",
    "Les questions à se poser pour \"challenger\" le jeu de données : \n",
    "\n",
    "- est-ce que mon échantillon est bien __représentatif__ de ce qui m'intéresse ? N'avoir que 2000 communes sur les 35000 n'est pas nécessairement un problème mais il est bon de s'être posé la question. \n",
    "- est-ce que les __ordres de grandeur__ sont bons ? pour cela, regarder confronter vos premieres stats desc à vos recherches internet. Par exemple trouver que les maisons vendues en France en 2020 font en moyenne 400 m² n'est pas un ordre de grandeur réaliste. \n",
    "- est-ce que je __comprends toutes les variables__ de mon jeu de données ? est-ce qu'elles se \"comportent\" de la bonne façon ? à ce stade, il est parfois utile de se faire un dictionnaire de variable (qui explique comment elles sont construites ou calculées). On peut également mener des études de __corrélation__ entre nos variables.\n",
    "- est-ce que j'ai des __premiers grands messages__ sortis de mon jeu de données ? est-ce que j'ai des résultats surprenants ? Si oui, les ai-je creusé suffisamment pour voir si les résultats tiennent toujours ou si c'est à cause d'un souci dans la construction du jeu de données (mal nettoyées, mauvaise variable...)\n",
    "\n",
    "#### Lors de la modélisation\n",
    "\n",
    "A cette étape, l'analyse descriptive doit voir avoir donné quelques premières pistes pour savoir dans quelle direction vous voulez mener votre modèle. \n",
    "\n",
    "Vous devrez plonger dans vos autres cours (Econométrie 1, Series Temporelles, Sondages, Analyse des données etc.) pour trouver le modèle le plus adapter à votre question.\n",
    "\n",
    "- Est-ce que vous voulez expliquer ou prédire ? https://hal-cnam.archives-ouvertes.fr/hal-02507348/document\n",
    "- Est-ce que vous voulez classer un élément dans une catégorie ? \n",
    "\n",
    "En fonction des modèles que vous aurez déjà vu en cours et des questions que vous souhaiterez résoudre sur votre jeu de données, le choix du modèle sera souvent assez direct. \n",
    "\n",
    "\n",
    "Vous pouvez également vous référez à la démarche proposée par Xavier Dupré\n",
    "http://www.xavierdupre.fr/app/ensae_teaching_cs/helpsphinx3/debutermlprojet.html#l-debutermlprojet\n",
    "\n",
    "Pour aller plus loin (mais de manière simplifiée) sur les algorithmes de Machine Learning :  \n",
    "https://datakeen.co/8-machine-learning-algorithms-explained-in-human-language/"
   ]
  },
  {
   "cell_type": "markdown",
   "metadata": {},
   "source": [
    "\n",
    "### Une démarche éthique \n",
    "\n",
    "On entend souvent qu'on peut \"faire dire ce qu'on veut aux données\". \n",
    "\n",
    "En suivant quelques préceptes simples, mélange d'honneteté intellectuelle et de recherche scientifique, cette remarque est facilement écartée. Ces principes ont été repris dans \"le sermet d'Hippocrate du Data Scientist\" : https://hippocrate.tech/."
   ]
  }
 ],
 "metadata": {
  "kernelspec": {
   "display_name": "Python 3",
   "language": "python",
   "name": "python3"
  },
  "language_info": {
   "codemirror_mode": {
    "name": "ipython",
    "version": 3
   },
   "file_extension": ".py",
   "mimetype": "text/x-python",
   "name": "python",
   "nbconvert_exporter": "python",
   "pygments_lexer": "ipython3",
   "version": "3.7.6"
  }
 },
 "nbformat": 4,
 "nbformat_minor": 4
}
